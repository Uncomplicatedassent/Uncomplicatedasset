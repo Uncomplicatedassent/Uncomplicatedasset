{
  "nbformat": 4,
  "nbformat_minor": 0,
  "metadata": {
    "colab": {
      "provenance": []
    },
    "kernelspec": {
      "name": "python3",
      "display_name": "Python 3"
    },
    "language_info": {
      "name": "python"
    }
  },
  "cells": [
    {
      "cell_type": "code",
      "execution_count": 1,
      "metadata": {
        "id": "9HNc9evR2tLI"
      },
      "outputs": [],
      "source": [
        "import numpy as np\n",
        "import pandas as pd\n",
        "import matplotlib.pyplot as plt"
      ]
    },
    {
      "cell_type": "markdown",
      "source": [
        "importing training set"
      ],
      "metadata": {
        "id": "FFt-sqAewurP"
      }
    },
    {
      "cell_type": "code",
      "source": [
        "dataset_train = pd.read_csv('Google_Stock_Price_Train.csv')"
      ],
      "metadata": {
        "id": "eVj8hv0ZwgTF"
      },
      "execution_count": 2,
      "outputs": []
    },
    {
      "cell_type": "code",
      "source": [
        "training_set = dataset_train.iloc[:,1:2].values\n",
        "print(training_set)"
      ],
      "metadata": {
        "colab": {
          "base_uri": "https://localhost:8080/"
        },
        "id": "rd1vbbyhxaFm",
        "outputId": "7309ab62-2165-4bda-de41-783a1cbd67ab"
      },
      "execution_count": 3,
      "outputs": [
        {
          "output_type": "stream",
          "name": "stdout",
          "text": [
            "[[325.25]\n",
            " [331.27]\n",
            " [329.83]\n",
            " ...\n",
            " [793.7 ]\n",
            " [783.33]\n",
            " [782.75]]\n"
          ]
        }
      ]
    },
    {
      "cell_type": "markdown",
      "source": [
        "Feature Scaling"
      ],
      "metadata": {
        "id": "0mxG7GthybrA"
      }
    },
    {
      "cell_type": "code",
      "source": [
        "from sklearn.preprocessing import MinMaxScaler\n",
        "sc = MinMaxScaler(feature_range=(0,1))\n",
        "training_set_scaled = sc.fit_transform(training_set)"
      ],
      "metadata": {
        "id": "H51OTEEcx--p"
      },
      "execution_count": 4,
      "outputs": []
    },
    {
      "cell_type": "markdown",
      "source": [
        "fit means getting min and max value of data\n"
      ],
      "metadata": {
        "id": "QwX3vF1oz8dm"
      }
    },
    {
      "cell_type": "markdown",
      "source": [
        "creating a datastructure with 60 timesteps"
      ],
      "metadata": {
        "id": "0eEFexrT1D0t"
      }
    },
    {
      "cell_type": "code",
      "source": [
        "X_train = []\n",
        "Y_train = []\n",
        "for i in range(60,1258):\n",
        "  X_train.append(training_set_scaled[i-60:i, 0])\n",
        "  Y_train.append(training_set_scaled[i, 0])\n",
        "X_train, Y_train = np.array(X_train), np.array(Y_train)\n",
        "\n",
        "\n",
        "\n"
      ],
      "metadata": {
        "id": "Vao3e1Fd0UYh"
      },
      "execution_count": 5,
      "outputs": []
    },
    {
      "cell_type": "markdown",
      "source": [
        "Reshaping"
      ],
      "metadata": {
        "id": "E1_OddFacGks"
      }
    },
    {
      "cell_type": "code",
      "source": [
        "X_train = np.reshape(X_train, (X_train.shape[0], X_train.shape[1], 1))\n",
        "X_train"
      ],
      "metadata": {
        "id": "i9sI1O5W1vhF",
        "colab": {
          "base_uri": "https://localhost:8080/"
        },
        "outputId": "87607b7b-4a1e-4de9-a4d2-11547c0a9c62"
      },
      "execution_count": 6,
      "outputs": [
        {
          "output_type": "execute_result",
          "data": {
            "text/plain": [
              "array([[[0.08581368],\n",
              "        [0.09701243],\n",
              "        [0.09433366],\n",
              "        ...,\n",
              "        [0.07846566],\n",
              "        [0.08034452],\n",
              "        [0.08497656]],\n",
              "\n",
              "       [[0.09701243],\n",
              "        [0.09433366],\n",
              "        [0.09156187],\n",
              "        ...,\n",
              "        [0.08034452],\n",
              "        [0.08497656],\n",
              "        [0.08627874]],\n",
              "\n",
              "       [[0.09433366],\n",
              "        [0.09156187],\n",
              "        [0.07984225],\n",
              "        ...,\n",
              "        [0.08497656],\n",
              "        [0.08627874],\n",
              "        [0.08471612]],\n",
              "\n",
              "       ...,\n",
              "\n",
              "       [[0.92106928],\n",
              "        [0.92438053],\n",
              "        [0.93048218],\n",
              "        ...,\n",
              "        [0.95475854],\n",
              "        [0.95204256],\n",
              "        [0.95163331]],\n",
              "\n",
              "       [[0.92438053],\n",
              "        [0.93048218],\n",
              "        [0.9299055 ],\n",
              "        ...,\n",
              "        [0.95204256],\n",
              "        [0.95163331],\n",
              "        [0.95725128]],\n",
              "\n",
              "       [[0.93048218],\n",
              "        [0.9299055 ],\n",
              "        [0.93113327],\n",
              "        ...,\n",
              "        [0.95163331],\n",
              "        [0.95725128],\n",
              "        [0.93796041]]])"
            ]
          },
          "metadata": {},
          "execution_count": 6
        }
      ]
    },
    {
      "cell_type": "markdown",
      "source": [
        "Building RNN"
      ],
      "metadata": {
        "id": "13EoW4tes1h8"
      }
    },
    {
      "cell_type": "code",
      "source": [
        "from keras.models import Sequential\n",
        "from keras.layers import Dense\n",
        "from keras.layers import LSTM\n",
        "from keras.layers import Dropout"
      ],
      "metadata": {
        "id": "U_owxalpd1g8"
      },
      "execution_count": 10,
      "outputs": []
    },
    {
      "cell_type": "markdown",
      "source": [
        "Initializing RNN\n"
      ],
      "metadata": {
        "id": "9_smqJtHsill"
      }
    },
    {
      "cell_type": "code",
      "source": [
        "regressor =  Sequential()"
      ],
      "metadata": {
        "id": "3gXPDfYhsOZS"
      },
      "execution_count": 11,
      "outputs": []
    },
    {
      "cell_type": "markdown",
      "source": [
        "Adding the first LSTM layer some dropout regularisation to avoid overfitting. return_sequences should be true to add further layers. Dropout rate specifies how much percentage of nuerons should be ignored in the LSTM layers"
      ],
      "metadata": {
        "id": "McdqDYhDtQ5L"
      }
    },
    {
      "cell_type": "code",
      "source": [
        "regressor.add(LSTM(units = 60, return_sequences= True ,input_shape = (X_train.shape[1], 1)))\n",
        "regressor.add(Dropout(0.2))"
      ],
      "metadata": {
        "id": "az9qBpNZvrP4"
      },
      "execution_count": 14,
      "outputs": []
    },
    {
      "cell_type": "markdown",
      "source": [
        "Adding the second LSTM layer some dropout regularisation to avoid overfitting. input shape is only specified for the first layer all the time"
      ],
      "metadata": {
        "id": "uPqI0fnSxCJC"
      }
    },
    {
      "cell_type": "code",
      "source": [
        "regressor.add(LSTM(units = 60, return_sequences= True ))\n",
        "regressor.add(Dropout(0.2))"
      ],
      "metadata": {
        "id": "za0hrQ9VwbZk"
      },
      "execution_count": 12,
      "outputs": []
    },
    {
      "cell_type": "markdown",
      "source": [
        "Adding the third LSTM layer some dropout regularisation"
      ],
      "metadata": {
        "id": "q_LBezLGx2p4"
      }
    },
    {
      "cell_type": "code",
      "source": [
        "regressor.add(LSTM(units = 60, return_sequences = True))\n",
        "regressor.add(Dropout(0.2))"
      ],
      "metadata": {
        "id": "1AV-ZFCNx5wA"
      },
      "execution_count": 15,
      "outputs": []
    },
    {
      "cell_type": "markdown",
      "source": [
        "Adding the third LSTM layer some dropout regularisation. return sequences is false for last LSTM layer."
      ],
      "metadata": {
        "id": "9OfwoChQyMQu"
      }
    },
    {
      "cell_type": "code",
      "source": [
        "regressor.add(LSTM(units = 60))\n",
        "regressor.add(Dropout(0.2))"
      ],
      "metadata": {
        "id": "JqrWnqNyyL3d"
      },
      "execution_count": 16,
      "outputs": []
    },
    {
      "cell_type": "markdown",
      "source": [
        "Adding the output layer"
      ],
      "metadata": {
        "id": "x3jzuqoN-TD6"
      }
    },
    {
      "cell_type": "code",
      "source": [
        "regressor.add(Dense(units = 1))\n"
      ],
      "metadata": {
        "id": "DargOTyM8uVC"
      },
      "execution_count": 17,
      "outputs": []
    },
    {
      "cell_type": "markdown",
      "source": [
        "compiling RNN. RMSprop should be the first choice for optimizer in rnn, but we are choosing adam optimizer here\n"
      ],
      "metadata": {
        "id": "vLUOkxHvATFO"
      }
    },
    {
      "cell_type": "code",
      "source": [
        "regressor.compile(optimizer = 'adam', loss = 'mean_squared_error')"
      ],
      "metadata": {
        "id": "vx6RveoXAVi_"
      },
      "execution_count": 18,
      "outputs": []
    },
    {
      "cell_type": "markdown",
      "source": [
        "fitting rnn"
      ],
      "metadata": {
        "id": "H81n9dIvA-zT"
      }
    },
    {
      "cell_type": "code",
      "source": [
        "regressor.fit(X_train , Y_train , epochs = 150, batch_size = 32 )"
      ],
      "metadata": {
        "colab": {
          "base_uri": "https://localhost:8080/"
        },
        "id": "XCv7n-nkA9fe",
        "outputId": "63565f1e-2b1f-42db-d417-7834c6a38127"
      },
      "execution_count": 19,
      "outputs": [
        {
          "output_type": "stream",
          "name": "stdout",
          "text": [
            "Epoch 1/150\n",
            "38/38 [==============================] - 20s 206ms/step - loss: 0.0468\n",
            "Epoch 2/150\n",
            "38/38 [==============================] - 7s 196ms/step - loss: 0.0059\n",
            "Epoch 3/150\n",
            "38/38 [==============================] - 8s 206ms/step - loss: 0.0059\n",
            "Epoch 4/150\n",
            "38/38 [==============================] - 6s 171ms/step - loss: 0.0058\n",
            "Epoch 5/150\n",
            "38/38 [==============================] - 8s 207ms/step - loss: 0.0057\n",
            "Epoch 6/150\n",
            "38/38 [==============================] - 7s 179ms/step - loss: 0.0050\n",
            "Epoch 7/150\n",
            "38/38 [==============================] - 8s 197ms/step - loss: 0.0044\n",
            "Epoch 8/150\n",
            "38/38 [==============================] - 8s 202ms/step - loss: 0.0048\n",
            "Epoch 9/150\n",
            "38/38 [==============================] - 7s 172ms/step - loss: 0.0048\n",
            "Epoch 10/150\n",
            "38/38 [==============================] - 9s 232ms/step - loss: 0.0051\n",
            "Epoch 11/150\n",
            "38/38 [==============================] - 7s 177ms/step - loss: 0.0040\n",
            "Epoch 12/150\n",
            "38/38 [==============================] - 8s 207ms/step - loss: 0.0042\n",
            "Epoch 13/150\n",
            "38/38 [==============================] - 7s 173ms/step - loss: 0.0043\n",
            "Epoch 14/150\n",
            "38/38 [==============================] - 8s 208ms/step - loss: 0.0047\n",
            "Epoch 15/150\n",
            "38/38 [==============================] - 7s 196ms/step - loss: 0.0039\n",
            "Epoch 16/150\n",
            "38/38 [==============================] - 7s 180ms/step - loss: 0.0041\n",
            "Epoch 17/150\n",
            "38/38 [==============================] - 8s 207ms/step - loss: 0.0040\n",
            "Epoch 18/150\n",
            "38/38 [==============================] - 7s 173ms/step - loss: 0.0040\n",
            "Epoch 19/150\n",
            "38/38 [==============================] - 8s 205ms/step - loss: 0.0038\n",
            "Epoch 20/150\n",
            "38/38 [==============================] - 7s 173ms/step - loss: 0.0034\n",
            "Epoch 21/150\n",
            "38/38 [==============================] - 8s 206ms/step - loss: 0.0048\n",
            "Epoch 22/150\n",
            "38/38 [==============================] - 7s 172ms/step - loss: 0.0041\n",
            "Epoch 23/150\n",
            "38/38 [==============================] - 8s 203ms/step - loss: 0.0036\n",
            "Epoch 24/150\n",
            "38/38 [==============================] - 7s 195ms/step - loss: 0.0034\n",
            "Epoch 25/150\n",
            "38/38 [==============================] - 7s 179ms/step - loss: 0.0032\n",
            "Epoch 26/150\n",
            "38/38 [==============================] - 8s 205ms/step - loss: 0.0032\n",
            "Epoch 27/150\n",
            "38/38 [==============================] - 6s 170ms/step - loss: 0.0029\n",
            "Epoch 28/150\n",
            "38/38 [==============================] - 8s 205ms/step - loss: 0.0031\n",
            "Epoch 29/150\n",
            "38/38 [==============================] - 6s 171ms/step - loss: 0.0030\n",
            "Epoch 30/150\n",
            "38/38 [==============================] - 8s 206ms/step - loss: 0.0030\n",
            "Epoch 31/150\n",
            "38/38 [==============================] - 7s 173ms/step - loss: 0.0029\n",
            "Epoch 32/150\n",
            "38/38 [==============================] - 8s 205ms/step - loss: 0.0029\n",
            "Epoch 33/150\n",
            "38/38 [==============================] - 7s 191ms/step - loss: 0.0032\n",
            "Epoch 34/150\n",
            "38/38 [==============================] - 7s 181ms/step - loss: 0.0033\n",
            "Epoch 35/150\n",
            "38/38 [==============================] - 8s 204ms/step - loss: 0.0032\n",
            "Epoch 36/150\n",
            "38/38 [==============================] - 7s 172ms/step - loss: 0.0027\n",
            "Epoch 37/150\n",
            "38/38 [==============================] - 8s 207ms/step - loss: 0.0028\n",
            "Epoch 38/150\n",
            "38/38 [==============================] - 6s 171ms/step - loss: 0.0027\n",
            "Epoch 39/150\n",
            "38/38 [==============================] - 8s 206ms/step - loss: 0.0024\n",
            "Epoch 40/150\n",
            "38/38 [==============================] - 7s 172ms/step - loss: 0.0027\n",
            "Epoch 41/150\n",
            "38/38 [==============================] - 8s 204ms/step - loss: 0.0028\n",
            "Epoch 42/150\n",
            "38/38 [==============================] - 7s 184ms/step - loss: 0.0024\n",
            "Epoch 43/150\n",
            "38/38 [==============================] - 7s 188ms/step - loss: 0.0027\n",
            "Epoch 44/150\n",
            "38/38 [==============================] - 8s 206ms/step - loss: 0.0025\n",
            "Epoch 45/150\n",
            "38/38 [==============================] - 7s 172ms/step - loss: 0.0024\n",
            "Epoch 46/150\n",
            "38/38 [==============================] - 8s 206ms/step - loss: 0.0027\n",
            "Epoch 47/150\n",
            "38/38 [==============================] - 6s 171ms/step - loss: 0.0027\n",
            "Epoch 48/150\n",
            "38/38 [==============================] - 8s 205ms/step - loss: 0.0028\n",
            "Epoch 49/150\n",
            "38/38 [==============================] - 6s 171ms/step - loss: 0.0022\n",
            "Epoch 50/150\n",
            "38/38 [==============================] - 8s 204ms/step - loss: 0.0024\n",
            "Epoch 51/150\n",
            "38/38 [==============================] - 7s 178ms/step - loss: 0.0023\n",
            "Epoch 52/150\n",
            "38/38 [==============================] - 7s 194ms/step - loss: 0.0024\n",
            "Epoch 53/150\n",
            "38/38 [==============================] - 8s 202ms/step - loss: 0.0024\n",
            "Epoch 54/150\n",
            "38/38 [==============================] - 7s 170ms/step - loss: 0.0022\n",
            "Epoch 55/150\n",
            "38/38 [==============================] - 8s 206ms/step - loss: 0.0022\n",
            "Epoch 56/150\n",
            "38/38 [==============================] - 6s 171ms/step - loss: 0.0022\n",
            "Epoch 57/150\n",
            "38/38 [==============================] - 8s 204ms/step - loss: 0.0021\n",
            "Epoch 58/150\n",
            "38/38 [==============================] - 6s 170ms/step - loss: 0.0019\n",
            "Epoch 59/150\n",
            "38/38 [==============================] - 8s 204ms/step - loss: 0.0020\n",
            "Epoch 60/150\n",
            "38/38 [==============================] - 7s 172ms/step - loss: 0.0025\n",
            "Epoch 61/150\n",
            "38/38 [==============================] - 8s 202ms/step - loss: 0.0023\n",
            "Epoch 62/150\n",
            "38/38 [==============================] - 7s 197ms/step - loss: 0.0020\n",
            "Epoch 63/150\n",
            "38/38 [==============================] - 7s 177ms/step - loss: 0.0019\n",
            "Epoch 64/150\n",
            "38/38 [==============================] - 8s 204ms/step - loss: 0.0020\n",
            "Epoch 65/150\n",
            "38/38 [==============================] - 7s 172ms/step - loss: 0.0020\n",
            "Epoch 66/150\n",
            "38/38 [==============================] - 8s 204ms/step - loss: 0.0021\n",
            "Epoch 67/150\n",
            "38/38 [==============================] - 6s 170ms/step - loss: 0.0019\n",
            "Epoch 68/150\n",
            "38/38 [==============================] - 8s 205ms/step - loss: 0.0022\n",
            "Epoch 69/150\n",
            "38/38 [==============================] - 6s 170ms/step - loss: 0.0023\n",
            "Epoch 70/150\n",
            "38/38 [==============================] - 8s 206ms/step - loss: 0.0019\n",
            "Epoch 71/150\n",
            "38/38 [==============================] - 7s 189ms/step - loss: 0.0017\n",
            "Epoch 72/150\n",
            "38/38 [==============================] - 7s 183ms/step - loss: 0.0018\n",
            "Epoch 73/150\n",
            "38/38 [==============================] - 8s 206ms/step - loss: 0.0016\n",
            "Epoch 74/150\n",
            "38/38 [==============================] - 7s 171ms/step - loss: 0.0018\n",
            "Epoch 75/150\n",
            "38/38 [==============================] - 8s 206ms/step - loss: 0.0017\n",
            "Epoch 76/150\n",
            "38/38 [==============================] - 7s 173ms/step - loss: 0.0017\n",
            "Epoch 77/150\n",
            "38/38 [==============================] - 8s 205ms/step - loss: 0.0019\n",
            "Epoch 78/150\n",
            "38/38 [==============================] - 6s 171ms/step - loss: 0.0017\n",
            "Epoch 79/150\n",
            "38/38 [==============================] - 9s 240ms/step - loss: 0.0017\n",
            "Epoch 80/150\n",
            "38/38 [==============================] - 8s 205ms/step - loss: 0.0016\n",
            "Epoch 81/150\n",
            "38/38 [==============================] - 6s 170ms/step - loss: 0.0016\n",
            "Epoch 82/150\n",
            "38/38 [==============================] - 8s 204ms/step - loss: 0.0019\n",
            "Epoch 83/150\n",
            "38/38 [==============================] - 7s 171ms/step - loss: 0.0017\n",
            "Epoch 84/150\n",
            "38/38 [==============================] - 8s 205ms/step - loss: 0.0014\n",
            "Epoch 85/150\n",
            "38/38 [==============================] - 7s 173ms/step - loss: 0.0016\n",
            "Epoch 86/150\n",
            "38/38 [==============================] - 8s 206ms/step - loss: 0.0017\n",
            "Epoch 87/150\n",
            "38/38 [==============================] - 7s 178ms/step - loss: 0.0016\n",
            "Epoch 88/150\n",
            "38/38 [==============================] - 8s 195ms/step - loss: 0.0018\n",
            "Epoch 89/150\n",
            "38/38 [==============================] - 8s 199ms/step - loss: 0.0017\n",
            "Epoch 90/150\n",
            "38/38 [==============================] - 7s 172ms/step - loss: 0.0016\n",
            "Epoch 91/150\n",
            "38/38 [==============================] - 8s 205ms/step - loss: 0.0015\n",
            "Epoch 92/150\n",
            "38/38 [==============================] - 6s 170ms/step - loss: 0.0014\n",
            "Epoch 93/150\n",
            "38/38 [==============================] - 8s 205ms/step - loss: 0.0018\n",
            "Epoch 94/150\n",
            "38/38 [==============================] - 7s 172ms/step - loss: 0.0016\n",
            "Epoch 95/150\n",
            "38/38 [==============================] - 8s 206ms/step - loss: 0.0014\n",
            "Epoch 96/150\n",
            "38/38 [==============================] - 6s 170ms/step - loss: 0.0014\n",
            "Epoch 97/150\n",
            "38/38 [==============================] - 8s 203ms/step - loss: 0.0014\n",
            "Epoch 98/150\n",
            "38/38 [==============================] - 7s 194ms/step - loss: 0.0014\n",
            "Epoch 99/150\n",
            "38/38 [==============================] - 7s 180ms/step - loss: 0.0015\n",
            "Epoch 100/150\n",
            "38/38 [==============================] - 8s 206ms/step - loss: 0.0016\n",
            "Epoch 101/150\n",
            "38/38 [==============================] - 7s 171ms/step - loss: 0.0014\n",
            "Epoch 102/150\n",
            "38/38 [==============================] - 8s 205ms/step - loss: 0.0014\n",
            "Epoch 103/150\n",
            "38/38 [==============================] - 6s 171ms/step - loss: 0.0014\n",
            "Epoch 104/150\n",
            "38/38 [==============================] - 8s 205ms/step - loss: 0.0012\n",
            "Epoch 105/150\n",
            "38/38 [==============================] - 7s 172ms/step - loss: 0.0013\n",
            "Epoch 106/150\n",
            "38/38 [==============================] - 8s 204ms/step - loss: 0.0014\n",
            "Epoch 107/150\n",
            "38/38 [==============================] - 7s 191ms/step - loss: 0.0014\n",
            "Epoch 108/150\n",
            "38/38 [==============================] - 7s 183ms/step - loss: 0.0015\n",
            "Epoch 109/150\n",
            "38/38 [==============================] - 8s 207ms/step - loss: 0.0014\n",
            "Epoch 110/150\n",
            "38/38 [==============================] - 6s 171ms/step - loss: 0.0013\n",
            "Epoch 111/150\n",
            "38/38 [==============================] - 8s 205ms/step - loss: 0.0015\n",
            "Epoch 112/150\n",
            "38/38 [==============================] - 6s 171ms/step - loss: 0.0014\n",
            "Epoch 113/150\n",
            "38/38 [==============================] - 8s 205ms/step - loss: 0.0012\n",
            "Epoch 114/150\n",
            "38/38 [==============================] - 6s 171ms/step - loss: 0.0014\n",
            "Epoch 115/150\n",
            "38/38 [==============================] - 8s 217ms/step - loss: 0.0015\n",
            "Epoch 116/150\n",
            "38/38 [==============================] - 9s 226ms/step - loss: 0.0012\n",
            "Epoch 117/150\n",
            "38/38 [==============================] - 6s 171ms/step - loss: 0.0014\n",
            "Epoch 118/150\n",
            "38/38 [==============================] - 8s 205ms/step - loss: 0.0014\n",
            "Epoch 119/150\n",
            "38/38 [==============================] - 7s 172ms/step - loss: 0.0015\n",
            "Epoch 120/150\n",
            "38/38 [==============================] - 8s 206ms/step - loss: 0.0012\n",
            "Epoch 121/150\n",
            "38/38 [==============================] - 6s 171ms/step - loss: 0.0014\n",
            "Epoch 122/150\n",
            "38/38 [==============================] - 8s 207ms/step - loss: 0.0013\n",
            "Epoch 123/150\n",
            "38/38 [==============================] - 7s 184ms/step - loss: 0.0012\n",
            "Epoch 124/150\n",
            "38/38 [==============================] - 7s 193ms/step - loss: 0.0012\n",
            "Epoch 125/150\n",
            "38/38 [==============================] - 8s 206ms/step - loss: 0.0011\n",
            "Epoch 126/150\n",
            "38/38 [==============================] - 7s 173ms/step - loss: 0.0011\n",
            "Epoch 127/150\n",
            "38/38 [==============================] - 8s 206ms/step - loss: 0.0013\n",
            "Epoch 128/150\n",
            "38/38 [==============================] - 7s 171ms/step - loss: 0.0012\n",
            "Epoch 129/150\n",
            "38/38 [==============================] - 8s 204ms/step - loss: 0.0011\n",
            "Epoch 130/150\n",
            "38/38 [==============================] - 7s 172ms/step - loss: 0.0013\n",
            "Epoch 131/150\n",
            "38/38 [==============================] - 8s 206ms/step - loss: 0.0013\n",
            "Epoch 132/150\n",
            "38/38 [==============================] - 7s 183ms/step - loss: 0.0013\n",
            "Epoch 133/150\n",
            "38/38 [==============================] - 7s 191ms/step - loss: 0.0012\n",
            "Epoch 134/150\n",
            "38/38 [==============================] - 8s 205ms/step - loss: 0.0011\n",
            "Epoch 135/150\n",
            "38/38 [==============================] - 7s 173ms/step - loss: 0.0011\n",
            "Epoch 136/150\n",
            "38/38 [==============================] - 8s 205ms/step - loss: 0.0011\n",
            "Epoch 137/150\n",
            "38/38 [==============================] - 6s 170ms/step - loss: 0.0012\n",
            "Epoch 138/150\n",
            "38/38 [==============================] - 8s 207ms/step - loss: 0.0011\n",
            "Epoch 139/150\n",
            "38/38 [==============================] - 7s 172ms/step - loss: 0.0011\n",
            "Epoch 140/150\n",
            "38/38 [==============================] - 8s 206ms/step - loss: 0.0012\n",
            "Epoch 141/150\n",
            "38/38 [==============================] - 7s 181ms/step - loss: 0.0011\n",
            "Epoch 142/150\n",
            "38/38 [==============================] - 7s 194ms/step - loss: 0.0011\n",
            "Epoch 143/150\n",
            "38/38 [==============================] - 8s 205ms/step - loss: 0.0013\n",
            "Epoch 144/150\n",
            "38/38 [==============================] - 7s 171ms/step - loss: 0.0011\n",
            "Epoch 145/150\n",
            "38/38 [==============================] - 8s 204ms/step - loss: 0.0012\n",
            "Epoch 146/150\n",
            "38/38 [==============================] - 6s 171ms/step - loss: 0.0011\n",
            "Epoch 147/150\n",
            "38/38 [==============================] - 8s 206ms/step - loss: 0.0011\n",
            "Epoch 148/150\n",
            "38/38 [==============================] - 7s 172ms/step - loss: 0.0011\n",
            "Epoch 149/150\n",
            "38/38 [==============================] - 8s 206ms/step - loss: 0.0011\n",
            "Epoch 150/150\n",
            "38/38 [==============================] - 7s 175ms/step - loss: 0.0011\n"
          ]
        },
        {
          "output_type": "execute_result",
          "data": {
            "text/plain": [
              "<keras.callbacks.History at 0x7f1fac6b7a00>"
            ]
          },
          "metadata": {},
          "execution_count": 19
        }
      ]
    },
    {
      "cell_type": "markdown",
      "source": [
        "visualization of the results\n"
      ],
      "metadata": {
        "id": "_N1StZkg_Q4H"
      }
    },
    {
      "cell_type": "code",
      "source": [
        "dataset_test = pd.read_csv('Google_Stock_Price_Test.csv')\n",
        "real_price = dataset_test.iloc[:,1:2].values\n",
        "real_price"
      ],
      "metadata": {
        "colab": {
          "base_uri": "https://localhost:8080/"
        },
        "id": "u8ZM_a52_QUu",
        "outputId": "9abc8932-c18d-4b03-ad5a-363748f739ff"
      },
      "execution_count": 20,
      "outputs": [
        {
          "output_type": "execute_result",
          "data": {
            "text/plain": [
              "array([[778.81],\n",
              "       [788.36],\n",
              "       [786.08],\n",
              "       [795.26],\n",
              "       [806.4 ],\n",
              "       [807.86],\n",
              "       [805.  ],\n",
              "       [807.14],\n",
              "       [807.48],\n",
              "       [807.08],\n",
              "       [805.81],\n",
              "       [805.12],\n",
              "       [806.91],\n",
              "       [807.25],\n",
              "       [822.3 ],\n",
              "       [829.62],\n",
              "       [837.81],\n",
              "       [834.71],\n",
              "       [814.66],\n",
              "       [796.86]])"
            ]
          },
          "metadata": {},
          "execution_count": 20
        }
      ]
    },
    {
      "cell_type": "markdown",
      "source": [
        "Prediction of stock price\n",
        "horizontal axis(rows) = 1\n",
        "vertical axis(columns) = 0. values are used convert dataframes in numpy array"
      ],
      "metadata": {
        "id": "qbmSBhNgAvMB"
      }
    },
    {
      "cell_type": "code",
      "source": [
        "dataset_total = pd.concat((dataset_train['Open'], dataset_test['Open']), axis = 0)\n",
        "inputs = dataset_total[len(dataset_total)- len(dataset_test)- 60:].values\n",
        "inputs = inputs.reshape(-1,1)\n",
        "inputs = sc.transform(inputs)\n",
        "X_test = []\n",
        "for i in range(60,80):\n",
        "  X_test.append(training_set_scaled[i-60:i, 0])\n",
        "X_test = np.array(X_test)\n",
        "X_test = np.reshape(X_test, (X_test.shape[0], X_test.shape[1], 1))\n",
        "pred = regressor.predict(X_test)\n",
        "pred = sc.inverse_transform(pred)\n",
        "pred"
      ],
      "metadata": {
        "colab": {
          "base_uri": "https://localhost:8080/"
        },
        "id": "7kAD6E-BAZQ8",
        "outputId": "3da9cc94-29da-4227-94c9-b9fd0929b8f8"
      },
      "execution_count": 23,
      "outputs": [
        {
          "output_type": "stream",
          "name": "stdout",
          "text": [
            "1/1 [==============================] - 0s 81ms/step\n"
          ]
        },
        {
          "output_type": "execute_result",
          "data": {
            "text/plain": [
              "array([[321.29214],\n",
              "       [322.5188 ],\n",
              "       [323.08508],\n",
              "       [321.396  ],\n",
              "       [319.85748],\n",
              "       [318.2725 ],\n",
              "       [316.1806 ],\n",
              "       [313.94357],\n",
              "       [313.1972 ],\n",
              "       [313.63184],\n",
              "       [315.5716 ],\n",
              "       [318.32037],\n",
              "       [316.52005],\n",
              "       [310.50513],\n",
              "       [304.85025],\n",
              "       [301.58426],\n",
              "       [300.42664],\n",
              "       [298.8354 ],\n",
              "       [297.90445],\n",
              "       [298.6372 ]], dtype=float32)"
            ]
          },
          "metadata": {},
          "execution_count": 23
        }
      ]
    },
    {
      "cell_type": "markdown",
      "source": [
        "visualizing the results"
      ],
      "metadata": {
        "id": "2UDf-d-1E5uz"
      }
    },
    {
      "cell_type": "code",
      "source": [
        "plt.plot(real_price, color = 'blue', label = 'Real Google Stock price')\n",
        "plt.plot(pred, color = 'yellow', label = 'Predicted values')\n",
        "plt.title('Google Stock Price prediction')\n",
        "plt.xlabel('time')\n",
        "plt.ylabel('Google Stock Price')\n",
        "plt.legend()\n",
        "plt.show()"
      ],
      "metadata": {
        "colab": {
          "base_uri": "https://localhost:8080/",
          "height": 472
        },
        "id": "qjBOSpliE1ez",
        "outputId": "90640d7b-566a-413e-a741-e3c34bfefba3"
      },
      "execution_count": 24,
      "outputs": [
        {
          "output_type": "display_data",
          "data": {
            "text/plain": [
              "<Figure size 640x480 with 1 Axes>"
            ],
            "image/png": "[encoded data removed]"
          },
          "metadata": {}
        }
      ]
    }
  ]
}
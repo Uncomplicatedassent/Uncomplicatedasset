{
  "nbformat": 4,
  "nbformat_minor": 0,
  "metadata": {
    "colab": {
      "provenance": []
    },
    "kernelspec": {
      "name": "python3",
      "display_name": "Python 3"
    },
    "language_info": {
      "name": "python"
    }
  },
  "cells": [
    {
      "cell_type": "code",
      "execution_count": null,
      "metadata": {
        "id": "1LuCTlJRBvai"
      },
      "outputs": [],
      "source": [
        "import numpy as np\n",
        "import matplotlib.pyplot as plt\n",
        "import pandas as pd\n",
        "import tensorflow as tf\n"
      ]
    },
    {
      "cell_type": "code",
      "source": [
        "tf.__version__"
      ],
      "metadata": {
        "colab": {
          "base_uri": "https://localhost:8080/",
          "height": 36
        },
        "id": "wfVqtqZiCVPf",
        "outputId": "d153ad0f-9055-4247-da22-3574d1a19531"
      },
      "execution_count": null,
      "outputs": [
        {
          "output_type": "execute_result",
          "data": {
            "text/plain": [
              "'2.12.0'"
            ],
            "application/vnd.google.colaboratory.intrinsic+json": {
              "type": "string"
            }
          },
          "metadata": {},
          "execution_count": 5
        }
      ]
    },
    {
      "cell_type": "markdown",
      "source": [
        "DATA PROCESSING\n"
      ],
      "metadata": {
        "id": "hsbjPgZoQGg7"
      }
    },
    {
      "cell_type": "code",
      "source": [
        "dataset = pd.read_csv('Churn_Modelling.csv')\n",
        "X = dataset.iloc[:, 3:-1].values\n",
        "y = dataset.iloc[:, -1].values"
      ],
      "metadata": {
        "id": "10AmRcX4DEbB"
      },
      "execution_count": null,
      "outputs": []
    },
    {
      "cell_type": "code",
      "source": [
        "print(X)"
      ],
      "metadata": {
        "colab": {
          "base_uri": "https://localhost:8080/"
        },
        "id": "FDOSV0S6FJcQ",
        "outputId": "9534bd6b-c7e5-4cb0-812c-68830420e56a"
      },
      "execution_count": null,
      "outputs": [
        {
          "output_type": "stream",
          "name": "stdout",
          "text": [
            "[[619 'France' 'Female' ... 1 1 101348.88]\n",
            " [608 'Spain' 'Female' ... 0 1 112542.58]\n",
            " [502 'France' 'Female' ... 1 0 113931.57]\n",
            " ...\n",
            " [709 'France' 'Female' ... 0 1 42085.58]\n",
            " [772 'Germany' 'Male' ... 1 0 92888.52]\n",
            " [792 'France' 'Female' ... 1 0 38190.78]]\n"
          ]
        }
      ]
    },
    {
      "cell_type": "code",
      "source": [
        "print(y)"
      ],
      "metadata": {
        "colab": {
          "base_uri": "https://localhost:8080/"
        },
        "id": "_kc9yRwtFQ9Y",
        "outputId": "7418f262-84ac-42e4-f0b9-0fd5a6dc2549"
      },
      "execution_count": null,
      "outputs": [
        {
          "output_type": "stream",
          "name": "stdout",
          "text": [
            "[1 0 1 ... 1 1 0]\n"
          ]
        }
      ]
    },
    {
      "cell_type": "markdown",
      "source": [
        "Label encoding : converting the values(strings) in data into binary values"
      ],
      "metadata": {
        "id": "Sab_VFTAHwaa"
      }
    },
    {
      "cell_type": "code",
      "source": [
        "from sklearn.preprocessing import LabelEncoder\n",
        "le = LabelEncoder()\n",
        "X[:,2] = le.fit_transform(X[:,2])"
      ],
      "metadata": {
        "id": "Od_DyJ9cGZLx"
      },
      "execution_count": null,
      "outputs": []
    },
    {
      "cell_type": "code",
      "source": [
        "print(X)"
      ],
      "metadata": {
        "colab": {
          "base_uri": "https://localhost:8080/"
        },
        "id": "QVDetrzDGi6v",
        "outputId": "8a9e57f7-9c9e-49f0-e9d4-59652dfc1549"
      },
      "execution_count": null,
      "outputs": [
        {
          "output_type": "stream",
          "name": "stdout",
          "text": [
            "[[619 'France' 0 ... 1 1 101348.88]\n",
            " [608 'Spain' 0 ... 0 1 112542.58]\n",
            " [502 'France' 0 ... 1 0 113931.57]\n",
            " ...\n",
            " [709 'France' 0 ... 0 1 42085.58]\n",
            " [772 'Germany' 1 ... 1 0 92888.52]\n",
            " [792 'France' 0 ... 1 0 38190.78]]\n"
          ]
        }
      ]
    },
    {
      "cell_type": "code",
      "source": [
        "from sklearn.compose import ColumnTransformer\n",
        "from sklearn.preprocessing import OneHotEncoder\n",
        "ct = ColumnTransformer(transformers=[('encoder', OneHotEncoder(), [1])], remainder='passthrough')\n",
        "X = np.array(ct.fit_transform(X))"
      ],
      "metadata": {
        "id": "FARlyxihG1iP"
      },
      "execution_count": null,
      "outputs": []
    },
    {
      "cell_type": "code",
      "source": [
        "print(X)"
      ],
      "metadata": {
        "colab": {
          "base_uri": "https://localhost:8080/"
        },
        "id": "en5YM_IGHCbe",
        "outputId": "65e885d6-9b66-4d85-c9b1-4ababa9e1ea7"
      },
      "execution_count": null,
      "outputs": [
        {
          "output_type": "stream",
          "name": "stdout",
          "text": [
            "[[1.0 0.0 0.0 ... 1 1 101348.88]\n",
            " [0.0 0.0 1.0 ... 0 1 112542.58]\n",
            " [1.0 0.0 0.0 ... 1 0 113931.57]\n",
            " ...\n",
            " [1.0 0.0 0.0 ... 0 1 42085.58]\n",
            " [0.0 1.0 0.0 ... 1 0 92888.52]\n",
            " [1.0 0.0 0.0 ... 1 0 38190.78]]\n"
          ]
        }
      ]
    },
    {
      "cell_type": "code",
      "source": [
        "from sklearn.model_selection import train_test_split\n",
        "X_train, X_test, y_train, y_test = train_test_split(X, y, test_size = 0.2, random_state = 1)"
      ],
      "metadata": {
        "id": "sgLqlh9cHdNB"
      },
      "execution_count": null,
      "outputs": []
    },
    {
      "cell_type": "markdown",
      "source": [
        "Feature scaling"
      ],
      "metadata": {
        "id": "aDjpl_8MHnhW"
      }
    },
    {
      "cell_type": "code",
      "source": [
        "from sklearn.preprocessing import StandardScaler\n",
        "sc = StandardScaler()\n",
        "X_train = sc.fit_transform(X_train)\n",
        "X_test = sc.transform(X_test)"
      ],
      "metadata": {
        "id": "WsFzeVYjHtvD"
      },
      "execution_count": null,
      "outputs": []
    },
    {
      "cell_type": "markdown",
      "source": [
        "BUILDING ANN"
      ],
      "metadata": {
        "id": "f2Nw2j-PP9Ig"
      }
    },
    {
      "cell_type": "markdown",
      "source": [
        "initializing ANN"
      ],
      "metadata": {
        "id": "0earQeTqQNEi"
      }
    },
    {
      "cell_type": "code",
      "source": [
        "ann = tf.keras.models.Sequential()"
      ],
      "metadata": {
        "id": "a3UQIfQuP7rF"
      },
      "execution_count": null,
      "outputs": []
    },
    {
      "cell_type": "markdown",
      "source": [
        "adding input and first hidden layer\n",
        "input layer activation function should be relu"
      ],
      "metadata": {
        "id": "qPa1KjevQuiX"
      }
    },
    {
      "cell_type": "code",
      "source": [
        "ann.add(tf.keras.layers.Dense(units=6, activation ='relu'))\n"
      ],
      "metadata": {
        "id": "SeKQUgmXQtlo"
      },
      "execution_count": null,
      "outputs": []
    },
    {
      "cell_type": "markdown",
      "source": [
        "second hidden layer addition"
      ],
      "metadata": {
        "id": "WpmWCqrdSBdX"
      }
    },
    {
      "cell_type": "code",
      "source": [
        "ann.add(tf.keras.layers.Dense(units=8, activation ='relu'))\n"
      ],
      "metadata": {
        "id": "g0BJvMP6SBx9"
      },
      "execution_count": null,
      "outputs": []
    },
    {
      "cell_type": "markdown",
      "source": [
        "output layer addition\n",
        "output layer activation function should be sigmoid for binary output and more probabilities"
      ],
      "metadata": {
        "id": "EZH-FhmMSKJN"
      }
    },
    {
      "cell_type": "code",
      "source": [
        "ann.add(tf.keras.layers.Dense(units=1, activation ='sigmoid'))\n"
      ],
      "metadata": {
        "id": "yPBHUJeLSMDC"
      },
      "execution_count": null,
      "outputs": []
    },
    {
      "cell_type": "markdown",
      "source": [
        "TRAINING ANN"
      ],
      "metadata": {
        "id": "CFtrLEUcTpM1"
      }
    },
    {
      "cell_type": "markdown",
      "source": [
        "compiling ANN\n",
        "\n"
      ],
      "metadata": {
        "id": "s2xls8M-nP_q"
      }
    },
    {
      "cell_type": "code",
      "source": [
        "ann.compile(optimizer = 'adam' ,loss = 'binary_crossentropy' , metrics = ['accuracy'])"
      ],
      "metadata": {
        "id": "NnZXPw4qTrPQ"
      },
      "execution_count": null,
      "outputs": []
    },
    {
      "cell_type": "markdown",
      "source": [
        "for binary classification the loss function is binary_crossentropy and for non binary the loss function is categorical_crossentropy function\n"
      ],
      "metadata": {
        "id": "lrioLwA6oyuy"
      }
    },
    {
      "cell_type": "markdown",
      "source": [
        "Training the ANN"
      ],
      "metadata": {
        "id": "e4cPyGnVpU0K"
      }
    },
    {
      "cell_type": "code",
      "source": [
        "ann.fit(X_train ,y_train, batch_size = 32, epochs = 150)"
      ],
      "metadata": {
        "colab": {
          "base_uri": "https://localhost:8080/"
        },
        "id": "vgC0LIf_pTVY",
        "outputId": "de2f202e-38cc-447d-df88-ebf5b932f7e8"
      },
      "execution_count": null,
      "outputs": [
        {
          "output_type": "stream",
          "name": "stdout",
          "text": [
            "Epoch 1/150\n",
            "250/250 [==============================] - 1s 2ms/step - loss: 0.6127 - accuracy: 0.7122\n",
            "Epoch 2/150\n",
            "250/250 [==============================] - 0s 2ms/step - loss: 0.4782 - accuracy: 0.7985\n",
            "Epoch 3/150\n",
            "250/250 [==============================] - 0s 2ms/step - loss: 0.4405 - accuracy: 0.8106\n",
            "Epoch 4/150\n",
            "250/250 [==============================] - 0s 2ms/step - loss: 0.4230 - accuracy: 0.8190\n",
            "Epoch 5/150\n",
            "250/250 [==============================] - 0s 2ms/step - loss: 0.4073 - accuracy: 0.8226\n",
            "Epoch 6/150\n",
            "250/250 [==============================] - 0s 2ms/step - loss: 0.3932 - accuracy: 0.8276\n",
            "Epoch 7/150\n",
            "250/250 [==============================] - 0s 2ms/step - loss: 0.3819 - accuracy: 0.8296\n",
            "Epoch 8/150\n",
            "250/250 [==============================] - 0s 2ms/step - loss: 0.3740 - accuracy: 0.8306\n",
            "Epoch 9/150\n",
            "250/250 [==============================] - 0s 2ms/step - loss: 0.3688 - accuracy: 0.8321\n",
            "Epoch 10/150\n",
            "250/250 [==============================] - 0s 2ms/step - loss: 0.3647 - accuracy: 0.8334\n",
            "Epoch 11/150\n",
            "250/250 [==============================] - 0s 2ms/step - loss: 0.3622 - accuracy: 0.8336\n",
            "Epoch 12/150\n",
            "250/250 [==============================] - 0s 2ms/step - loss: 0.3592 - accuracy: 0.8345\n",
            "Epoch 13/150\n",
            "250/250 [==============================] - 0s 2ms/step - loss: 0.3579 - accuracy: 0.8336\n",
            "Epoch 14/150\n",
            "250/250 [==============================] - 0s 2ms/step - loss: 0.3563 - accuracy: 0.8445\n",
            "Epoch 15/150\n",
            "250/250 [==============================] - 0s 1ms/step - loss: 0.3546 - accuracy: 0.8554\n",
            "Epoch 16/150\n",
            "250/250 [==============================] - 0s 2ms/step - loss: 0.3543 - accuracy: 0.8572\n",
            "Epoch 17/150\n",
            "250/250 [==============================] - 0s 2ms/step - loss: 0.3530 - accuracy: 0.8596\n",
            "Epoch 18/150\n",
            "250/250 [==============================] - 0s 2ms/step - loss: 0.3522 - accuracy: 0.8594\n",
            "Epoch 19/150\n",
            "250/250 [==============================] - 0s 2ms/step - loss: 0.3509 - accuracy: 0.8604\n",
            "Epoch 20/150\n",
            "250/250 [==============================] - 0s 2ms/step - loss: 0.3503 - accuracy: 0.8586\n",
            "Epoch 21/150\n",
            "250/250 [==============================] - 1s 2ms/step - loss: 0.3490 - accuracy: 0.8595\n",
            "Epoch 22/150\n",
            "250/250 [==============================] - 1s 2ms/step - loss: 0.3483 - accuracy: 0.8609\n",
            "Epoch 23/150\n",
            "250/250 [==============================] - 1s 2ms/step - loss: 0.3477 - accuracy: 0.8597\n",
            "Epoch 24/150\n",
            "250/250 [==============================] - 1s 2ms/step - loss: 0.3469 - accuracy: 0.8614\n",
            "Epoch 25/150\n",
            "250/250 [==============================] - 1s 4ms/step - loss: 0.3459 - accuracy: 0.8619\n",
            "Epoch 26/150\n",
            "250/250 [==============================] - 1s 4ms/step - loss: 0.3451 - accuracy: 0.8616\n",
            "Epoch 27/150\n",
            "250/250 [==============================] - 1s 3ms/step - loss: 0.3445 - accuracy: 0.8621\n",
            "Epoch 28/150\n",
            "250/250 [==============================] - 1s 5ms/step - loss: 0.3441 - accuracy: 0.8619\n",
            "Epoch 29/150\n",
            "250/250 [==============================] - 1s 5ms/step - loss: 0.3432 - accuracy: 0.8637\n",
            "Epoch 30/150\n",
            "250/250 [==============================] - 1s 4ms/step - loss: 0.3425 - accuracy: 0.8615\n",
            "Epoch 31/150\n",
            "250/250 [==============================] - 1s 3ms/step - loss: 0.3416 - accuracy: 0.8634\n",
            "Epoch 32/150\n",
            "250/250 [==============================] - 1s 2ms/step - loss: 0.3410 - accuracy: 0.8620\n",
            "Epoch 33/150\n",
            "250/250 [==============================] - 1s 2ms/step - loss: 0.3383 - accuracy: 0.8649\n",
            "Epoch 34/150\n",
            "250/250 [==============================] - 1s 3ms/step - loss: 0.3371 - accuracy: 0.8631\n",
            "Epoch 35/150\n",
            "250/250 [==============================] - 1s 3ms/step - loss: 0.3357 - accuracy: 0.8643\n",
            "Epoch 36/150\n",
            "250/250 [==============================] - 1s 3ms/step - loss: 0.3347 - accuracy: 0.8640\n",
            "Epoch 37/150\n",
            "250/250 [==============================] - 1s 3ms/step - loss: 0.3340 - accuracy: 0.8626\n",
            "Epoch 38/150\n",
            "250/250 [==============================] - 1s 4ms/step - loss: 0.3334 - accuracy: 0.8618\n",
            "Epoch 39/150\n",
            "250/250 [==============================] - 1s 4ms/step - loss: 0.3332 - accuracy: 0.8612\n",
            "Epoch 40/150\n",
            "250/250 [==============================] - 1s 4ms/step - loss: 0.3328 - accuracy: 0.8619\n",
            "Epoch 41/150\n",
            "250/250 [==============================] - 1s 3ms/step - loss: 0.3326 - accuracy: 0.8624\n",
            "Epoch 42/150\n",
            "250/250 [==============================] - 1s 4ms/step - loss: 0.3320 - accuracy: 0.8625\n",
            "Epoch 43/150\n",
            "250/250 [==============================] - 1s 3ms/step - loss: 0.3317 - accuracy: 0.8612\n",
            "Epoch 44/150\n",
            "250/250 [==============================] - 1s 2ms/step - loss: 0.3317 - accuracy: 0.8611\n",
            "Epoch 45/150\n",
            "250/250 [==============================] - 1s 2ms/step - loss: 0.3318 - accuracy: 0.8619\n",
            "Epoch 46/150\n",
            "250/250 [==============================] - 1s 3ms/step - loss: 0.3314 - accuracy: 0.8606\n",
            "Epoch 47/150\n",
            "250/250 [==============================] - 1s 3ms/step - loss: 0.3308 - accuracy: 0.8615\n",
            "Epoch 48/150\n",
            "250/250 [==============================] - 1s 3ms/step - loss: 0.3313 - accuracy: 0.8610\n",
            "Epoch 49/150\n",
            "250/250 [==============================] - 1s 4ms/step - loss: 0.3314 - accuracy: 0.8612\n",
            "Epoch 50/150\n",
            "250/250 [==============================] - 1s 3ms/step - loss: 0.3309 - accuracy: 0.8604\n",
            "Epoch 51/150\n",
            "250/250 [==============================] - 1s 3ms/step - loss: 0.3309 - accuracy: 0.8616\n",
            "Epoch 52/150\n",
            "250/250 [==============================] - 1s 2ms/step - loss: 0.3302 - accuracy: 0.8612\n",
            "Epoch 53/150\n",
            "250/250 [==============================] - 1s 2ms/step - loss: 0.3302 - accuracy: 0.8626\n",
            "Epoch 54/150\n",
            "250/250 [==============================] - 1s 4ms/step - loss: 0.3302 - accuracy: 0.8614\n",
            "Epoch 55/150\n",
            "250/250 [==============================] - 1s 5ms/step - loss: 0.3300 - accuracy: 0.8608\n",
            "Epoch 56/150\n",
            "250/250 [==============================] - 1s 3ms/step - loss: 0.3297 - accuracy: 0.8622\n",
            "Epoch 57/150\n",
            "250/250 [==============================] - 1s 4ms/step - loss: 0.3298 - accuracy: 0.8622\n",
            "Epoch 58/150\n",
            "250/250 [==============================] - 1s 4ms/step - loss: 0.3295 - accuracy: 0.8618\n",
            "Epoch 59/150\n",
            "250/250 [==============================] - 1s 4ms/step - loss: 0.3298 - accuracy: 0.8616\n",
            "Epoch 60/150\n",
            "250/250 [==============================] - 1s 3ms/step - loss: 0.3290 - accuracy: 0.8615\n",
            "Epoch 61/150\n",
            "250/250 [==============================] - 1s 3ms/step - loss: 0.3293 - accuracy: 0.8624\n",
            "Epoch 62/150\n",
            "250/250 [==============================] - 1s 4ms/step - loss: 0.3293 - accuracy: 0.8616\n",
            "Epoch 63/150\n",
            "250/250 [==============================] - 1s 3ms/step - loss: 0.3291 - accuracy: 0.8626\n",
            "Epoch 64/150\n",
            "250/250 [==============================] - 1s 3ms/step - loss: 0.3293 - accuracy: 0.8630\n",
            "Epoch 65/150\n",
            "250/250 [==============================] - 1s 3ms/step - loss: 0.3283 - accuracy: 0.8604\n",
            "Epoch 66/150\n",
            "250/250 [==============================] - 1s 2ms/step - loss: 0.3284 - accuracy: 0.8626\n",
            "Epoch 67/150\n",
            "250/250 [==============================] - 1s 3ms/step - loss: 0.3282 - accuracy: 0.8640\n",
            "Epoch 68/150\n",
            "250/250 [==============================] - 1s 2ms/step - loss: 0.3283 - accuracy: 0.8625\n",
            "Epoch 69/150\n",
            "250/250 [==============================] - 1s 2ms/step - loss: 0.3279 - accuracy: 0.8621\n",
            "Epoch 70/150\n",
            "250/250 [==============================] - 1s 3ms/step - loss: 0.3281 - accuracy: 0.8619\n",
            "Epoch 71/150\n",
            "250/250 [==============================] - 1s 4ms/step - loss: 0.3275 - accuracy: 0.8626\n",
            "Epoch 72/150\n",
            "250/250 [==============================] - 1s 4ms/step - loss: 0.3277 - accuracy: 0.8609\n",
            "Epoch 73/150\n",
            "250/250 [==============================] - 1s 4ms/step - loss: 0.3277 - accuracy: 0.8610\n",
            "Epoch 74/150\n",
            "250/250 [==============================] - 1s 3ms/step - loss: 0.3271 - accuracy: 0.8615\n",
            "Epoch 75/150\n",
            "250/250 [==============================] - 0s 2ms/step - loss: 0.3270 - accuracy: 0.8612\n",
            "Epoch 76/150\n",
            "250/250 [==============================] - 0s 2ms/step - loss: 0.3268 - accuracy: 0.8625\n",
            "Epoch 77/150\n",
            "250/250 [==============================] - 0s 2ms/step - loss: 0.3270 - accuracy: 0.8624\n",
            "Epoch 78/150\n",
            "250/250 [==============================] - 0s 2ms/step - loss: 0.3271 - accuracy: 0.8629\n",
            "Epoch 79/150\n",
            "250/250 [==============================] - 0s 2ms/step - loss: 0.3268 - accuracy: 0.8621\n",
            "Epoch 80/150\n",
            "250/250 [==============================] - 0s 2ms/step - loss: 0.3269 - accuracy: 0.8630\n",
            "Epoch 81/150\n",
            "250/250 [==============================] - 0s 2ms/step - loss: 0.3265 - accuracy: 0.8633\n",
            "Epoch 82/150\n",
            "250/250 [==============================] - 0s 2ms/step - loss: 0.3270 - accuracy: 0.8614\n",
            "Epoch 83/150\n",
            "250/250 [==============================] - 0s 2ms/step - loss: 0.3264 - accuracy: 0.8643\n",
            "Epoch 84/150\n",
            "250/250 [==============================] - 0s 2ms/step - loss: 0.3266 - accuracy: 0.8635\n",
            "Epoch 85/150\n",
            "250/250 [==============================] - 0s 2ms/step - loss: 0.3264 - accuracy: 0.8619\n",
            "Epoch 86/150\n",
            "250/250 [==============================] - 0s 2ms/step - loss: 0.3262 - accuracy: 0.8634\n",
            "Epoch 87/150\n",
            "250/250 [==============================] - 0s 2ms/step - loss: 0.3266 - accuracy: 0.8631\n",
            "Epoch 88/150\n",
            "250/250 [==============================] - 0s 2ms/step - loss: 0.3258 - accuracy: 0.8646\n",
            "Epoch 89/150\n",
            "250/250 [==============================] - 0s 2ms/step - loss: 0.3263 - accuracy: 0.8618\n",
            "Epoch 90/150\n",
            "250/250 [==============================] - 0s 2ms/step - loss: 0.3259 - accuracy: 0.8627\n",
            "Epoch 91/150\n",
            "250/250 [==============================] - 0s 2ms/step - loss: 0.3263 - accuracy: 0.8630\n",
            "Epoch 92/150\n",
            "250/250 [==============================] - 1s 3ms/step - loss: 0.3258 - accuracy: 0.8633\n",
            "Epoch 93/150\n",
            "250/250 [==============================] - 1s 3ms/step - loss: 0.3259 - accuracy: 0.8625\n",
            "Epoch 94/150\n",
            "250/250 [==============================] - 1s 2ms/step - loss: 0.3260 - accuracy: 0.8636\n",
            "Epoch 95/150\n",
            "250/250 [==============================] - 1s 3ms/step - loss: 0.3258 - accuracy: 0.8629\n",
            "Epoch 96/150\n",
            "250/250 [==============================] - 1s 3ms/step - loss: 0.3260 - accuracy: 0.8625\n",
            "Epoch 97/150\n",
            "250/250 [==============================] - 1s 3ms/step - loss: 0.3257 - accuracy: 0.8612\n",
            "Epoch 98/150\n",
            "250/250 [==============================] - 1s 3ms/step - loss: 0.3254 - accuracy: 0.8629\n",
            "Epoch 99/150\n",
            "250/250 [==============================] - 1s 3ms/step - loss: 0.3254 - accuracy: 0.8629\n",
            "Epoch 100/150\n",
            "250/250 [==============================] - 1s 3ms/step - loss: 0.3254 - accuracy: 0.8636\n",
            "Epoch 101/150\n",
            "250/250 [==============================] - 1s 2ms/step - loss: 0.3254 - accuracy: 0.8619\n",
            "Epoch 102/150\n",
            "250/250 [==============================] - 1s 2ms/step - loss: 0.3255 - accuracy: 0.8621\n",
            "Epoch 103/150\n",
            "250/250 [==============================] - 1s 2ms/step - loss: 0.3250 - accuracy: 0.8640\n",
            "Epoch 104/150\n",
            "250/250 [==============================] - 1s 2ms/step - loss: 0.3256 - accuracy: 0.8626\n",
            "Epoch 105/150\n",
            "250/250 [==============================] - 1s 2ms/step - loss: 0.3254 - accuracy: 0.8637\n",
            "Epoch 106/150\n",
            "250/250 [==============================] - 1s 2ms/step - loss: 0.3254 - accuracy: 0.8630\n",
            "Epoch 107/150\n",
            "250/250 [==============================] - 1s 2ms/step - loss: 0.3251 - accuracy: 0.8650\n",
            "Epoch 108/150\n",
            "250/250 [==============================] - 1s 2ms/step - loss: 0.3254 - accuracy: 0.8624\n",
            "Epoch 109/150\n",
            "250/250 [==============================] - 1s 2ms/step - loss: 0.3249 - accuracy: 0.8620\n",
            "Epoch 110/150\n",
            "250/250 [==============================] - 0s 2ms/step - loss: 0.3247 - accuracy: 0.8639\n",
            "Epoch 111/150\n",
            "250/250 [==============================] - 0s 2ms/step - loss: 0.3253 - accuracy: 0.8626\n",
            "Epoch 112/150\n",
            "250/250 [==============================] - 0s 2ms/step - loss: 0.3251 - accuracy: 0.8641\n",
            "Epoch 113/150\n",
            "250/250 [==============================] - 0s 2ms/step - loss: 0.3248 - accuracy: 0.8633\n",
            "Epoch 114/150\n",
            "250/250 [==============================] - 0s 2ms/step - loss: 0.3250 - accuracy: 0.8624\n",
            "Epoch 115/150\n",
            "250/250 [==============================] - 0s 2ms/step - loss: 0.3248 - accuracy: 0.8626\n",
            "Epoch 116/150\n",
            "250/250 [==============================] - 0s 2ms/step - loss: 0.3248 - accuracy: 0.8626\n",
            "Epoch 117/150\n",
            "250/250 [==============================] - 0s 2ms/step - loss: 0.3248 - accuracy: 0.8611\n",
            "Epoch 118/150\n",
            "250/250 [==============================] - 0s 2ms/step - loss: 0.3250 - accuracy: 0.8634\n",
            "Epoch 119/150\n",
            "250/250 [==============================] - 0s 2ms/step - loss: 0.3253 - accuracy: 0.8630\n",
            "Epoch 120/150\n",
            "250/250 [==============================] - 1s 2ms/step - loss: 0.3245 - accuracy: 0.8630\n",
            "Epoch 121/150\n",
            "250/250 [==============================] - 1s 2ms/step - loss: 0.3247 - accuracy: 0.8630\n",
            "Epoch 122/150\n",
            "250/250 [==============================] - 1s 2ms/step - loss: 0.3248 - accuracy: 0.8625\n",
            "Epoch 123/150\n",
            "250/250 [==============================] - 1s 2ms/step - loss: 0.3247 - accuracy: 0.8614\n",
            "Epoch 124/150\n",
            "250/250 [==============================] - 1s 2ms/step - loss: 0.3248 - accuracy: 0.8637\n",
            "Epoch 125/150\n",
            "250/250 [==============================] - 0s 2ms/step - loss: 0.3246 - accuracy: 0.8618\n",
            "Epoch 126/150\n",
            "250/250 [==============================] - 0s 2ms/step - loss: 0.3248 - accuracy: 0.8629\n",
            "Epoch 127/150\n",
            "250/250 [==============================] - 1s 2ms/step - loss: 0.3247 - accuracy: 0.8625\n",
            "Epoch 128/150\n",
            "250/250 [==============================] - 1s 2ms/step - loss: 0.3250 - accuracy: 0.8631\n",
            "Epoch 129/150\n",
            "250/250 [==============================] - 1s 2ms/step - loss: 0.3250 - accuracy: 0.8634\n",
            "Epoch 130/150\n",
            "250/250 [==============================] - 1s 2ms/step - loss: 0.3244 - accuracy: 0.8621\n",
            "Epoch 131/150\n",
            "250/250 [==============================] - 1s 2ms/step - loss: 0.3242 - accuracy: 0.8630\n",
            "Epoch 132/150\n",
            "250/250 [==============================] - 0s 2ms/step - loss: 0.3247 - accuracy: 0.8618\n",
            "Epoch 133/150\n",
            "250/250 [==============================] - 1s 2ms/step - loss: 0.3245 - accuracy: 0.8631\n",
            "Epoch 134/150\n",
            "250/250 [==============================] - 0s 2ms/step - loss: 0.3248 - accuracy: 0.8631\n",
            "Epoch 135/150\n",
            "250/250 [==============================] - 1s 2ms/step - loss: 0.3248 - accuracy: 0.8631\n",
            "Epoch 136/150\n",
            "250/250 [==============================] - 1s 2ms/step - loss: 0.3247 - accuracy: 0.8616\n",
            "Epoch 137/150\n",
            "250/250 [==============================] - 1s 3ms/step - loss: 0.3249 - accuracy: 0.8622\n",
            "Epoch 138/150\n",
            "250/250 [==============================] - 1s 2ms/step - loss: 0.3243 - accuracy: 0.8615\n",
            "Epoch 139/150\n",
            "250/250 [==============================] - 1s 3ms/step - loss: 0.3247 - accuracy: 0.8626\n",
            "Epoch 140/150\n",
            "250/250 [==============================] - 0s 2ms/step - loss: 0.3240 - accuracy: 0.8622\n",
            "Epoch 141/150\n",
            "250/250 [==============================] - 0s 2ms/step - loss: 0.3242 - accuracy: 0.8631\n",
            "Epoch 142/150\n",
            "250/250 [==============================] - 0s 2ms/step - loss: 0.3244 - accuracy: 0.8634\n",
            "Epoch 143/150\n",
            "250/250 [==============================] - 0s 2ms/step - loss: 0.3244 - accuracy: 0.8616\n",
            "Epoch 144/150\n",
            "250/250 [==============================] - 0s 2ms/step - loss: 0.3249 - accuracy: 0.8625\n",
            "Epoch 145/150\n",
            "250/250 [==============================] - 1s 2ms/step - loss: 0.3242 - accuracy: 0.8615\n",
            "Epoch 146/150\n",
            "250/250 [==============================] - 1s 2ms/step - loss: 0.3243 - accuracy: 0.8633\n",
            "Epoch 147/150\n",
            "250/250 [==============================] - 1s 2ms/step - loss: 0.3242 - accuracy: 0.8626\n",
            "Epoch 148/150\n",
            "250/250 [==============================] - 1s 2ms/step - loss: 0.3246 - accuracy: 0.8630\n",
            "Epoch 149/150\n",
            "250/250 [==============================] - 0s 2ms/step - loss: 0.3242 - accuracy: 0.8621\n",
            "Epoch 150/150\n",
            "250/250 [==============================] - 0s 2ms/step - loss: 0.3237 - accuracy: 0.8634\n"
          ]
        },
        {
          "output_type": "execute_result",
          "data": {
            "text/plain": [
              "<keras.callbacks.History at 0x7feecc656d10>"
            ]
          },
          "metadata": {},
          "execution_count": 16
        }
      ]
    },
    {
      "cell_type": "markdown",
      "source": [
        "EVALUATION OF THE MODEL\n"
      ],
      "metadata": {
        "id": "5jHPz5VyHUBZ"
      }
    },
    {
      "cell_type": "code",
      "source": [
        "print(ann.predict(sc.transform([[1, 0, 0, 600, 1, 40, 3, 60000, 2, 1, 1, 50000,]])) >0.5)"
      ],
      "metadata": {
        "id": "VBisr1FJquLE",
        "colab": {
          "base_uri": "https://localhost:8080/"
        },
        "outputId": "746d2c93-4422-41db-fe73-38181245ef8a"
      },
      "execution_count": null,
      "outputs": [
        {
          "output_type": "stream",
          "name": "stdout",
          "text": [
            "1/1 [==============================] - 0s 19ms/step\n",
            "[[False]]\n"
          ]
        }
      ]
    },
    {
      "cell_type": "markdown",
      "source": [
        "PREDICTIONS"
      ],
      "metadata": {
        "id": "4To9HomtKo-A"
      }
    },
    {
      "cell_type": "code",
      "source": [
        "y_pred = ann.predict(X_test)\n",
        "y_pred = (y_pred > 0.5)\n",
        "print(np.concatenate((y_pred.reshape(len(y_pred),1),y_test.reshape(len(y_test),1)),1))"
      ],
      "metadata": {
        "colab": {
          "base_uri": "https://localhost:8080/"
        },
        "id": "7_P3rwFTKL0V",
        "outputId": "fb167970-0c27-441d-e737-cab0a2c101a8"
      },
      "execution_count": null,
      "outputs": [
        {
          "output_type": "stream",
          "name": "stdout",
          "text": [
            "63/63 [==============================] - 0s 1ms/step\n",
            "[[0 0]\n",
            " [0 0]\n",
            " [0 0]\n",
            " ...\n",
            " [0 0]\n",
            " [0 0]\n",
            " [0 0]]\n"
          ]
        }
      ]
    },
    {
      "cell_type": "markdown",
      "source": [
        "CONFUSION MATRIX"
      ],
      "metadata": {
        "id": "teAs9nuNKvBV"
      }
    },
    {
      "cell_type": "code",
      "source": [
        "from sklearn.metrics import confusion_matrix, accuracy_score\n",
        "cm = confusion_matrix(y_test, y_pred)\n",
        "print(cm)\n",
        "accuracy_score(y_test, y_pred)"
      ],
      "metadata": {
        "colab": {
          "base_uri": "https://localhost:8080/"
        },
        "id": "G6DmuKwQKuD3",
        "outputId": "c5f13fd4-ce2f-4e9f-db8b-abd4e2396889"
      },
      "execution_count": null,
      "outputs": [
        {
          "output_type": "stream",
          "name": "stdout",
          "text": [
            "[[1543   42]\n",
            " [ 292  123]]\n"
          ]
        },
        {
          "output_type": "execute_result",
          "data": {
            "text/plain": [
              "0.833"
            ]
          },
          "metadata": {},
          "execution_count": 24
        }
      ]
    }
  ]
}